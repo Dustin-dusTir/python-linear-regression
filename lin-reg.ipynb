{
 "cells": [
  {
   "cell_type": "markdown",
   "metadata": {},
   "source": [
    "# my own simple linear regression\n",
    "this is my attempt at creating a linear regression model from scratch  \n",
    "The model should have the same user interface as sklearn  \n",
    "model = LinearRegression()  \n",
    "model.fit(X, Y)  "
   ]
  },
  {
   "cell_type": "markdown",
   "metadata": {},
   "source": [
    "for now, all we need is numpy"
   ]
  },
  {
   "cell_type": "code",
   "execution_count": 1,
   "metadata": {},
   "outputs": [],
   "source": [
    "import numpy as np"
   ]
  },
  {
   "cell_type": "code",
   "execution_count": 2,
   "metadata": {},
   "outputs": [],
   "source": [
    "class linear_regression_model():\n",
    "    def __init__(self):\n",
    "        self.theta = None\n",
    "        self.J_histories = []\n",
    "        self.theta = None\n",
    "    \n",
    "    def predict(self, X):\n",
    "        X = np.hstack((np.ones((len(X),1)), X))\n",
    "        predictions = X @ self.theta\n",
    "        return predictions\n",
    "        \n",
    "    def fit(self, X:np.ndarray, y:np.ndarray, alpha = 0.01, num_iters = 10_000, y_lambda = 0):\n",
    "        # add ones as an extra feature (at the beginning) in the input, to use this for the offset term\n",
    "        X = np.hstack((np.ones((len(X),1)), X))\n",
    "        \n",
    "        if self.theta is None:\n",
    "            self.theta = np.random.rand(X.shape[1], 1) # initialize \n",
    "        J_history = self.gradient_descent_regularised(X, y, self.theta, alpha, num_iters, y_lambda)\n",
    "        self.J_histories.append(J_history)\n",
    "    \n",
    "    def compute_cost_add_offset(self, X, y):\n",
    "        # add ones as an extra feature (at the beginning) in the input, to use this for the offset term\n",
    "        X = np.hstack((np.ones((len(X),1)), X))\n",
    "        if self.theta is None:\n",
    "            self.theta = np.random.rand(X.shape[1], 1) # initialize \n",
    "        m = len(y) # number of training examples\n",
    "        J = 1/(2*m) * sum((X @ self.theta - y)**2)\n",
    "        return J\n",
    "        \n",
    "    def compute_cost(self, X, y):\n",
    "        m = len(y) # number of training examples\n",
    "        J = 1/(2*m) * sum((X @ self.theta - y)**2)\n",
    "        return J\n",
    "    \n",
    "    def gradient_descent_regularised(self, X:np.ndarray, y:np.ndarray, theta:np.ndarray, alpha, num_iters, y_lambda):\n",
    "        m = len(y)\n",
    "        J_history = np.ndarray((num_iters))\n",
    "\n",
    "        for i in range(num_iters):\n",
    "            # % Instructions: Perform a single gradient step on the parameter vector\n",
    "            # %               theta. \n",
    "            theta = self.theta\n",
    "            self.theta = theta * ( 1 - alpha*y_lambda/m) - (alpha/m) * np.transpose(np.transpose( X @ theta - y ) @ X)\n",
    "            \n",
    "            # Save the cost J after every iteration    \n",
    "            J_history[i] = self.compute_cost(X, y)\n",
    "        \n",
    "        return theta, J_history"
   ]
  },
  {
   "cell_type": "code",
   "execution_count": 3,
   "metadata": {},
   "outputs": [],
   "source": [
    "model = linear_regression_model()"
   ]
  },
  {
   "cell_type": "code",
   "execution_count": 4,
   "metadata": {},
   "outputs": [],
   "source": [
    "n_examples = 4\n",
    "n_features = 2\n",
    "X = np.random.rand(n_examples, n_features)\n",
    "y = np.random.rand(n_examples, 1)"
   ]
  },
  {
   "cell_type": "code",
   "execution_count": 5,
   "metadata": {},
   "outputs": [
    {
     "data": {
      "text/plain": [
       "array([0.04930407])"
      ]
     },
     "execution_count": 5,
     "metadata": {},
     "output_type": "execute_result"
    }
   ],
   "source": [
    "model.compute_cost_add_offset(X, y)"
   ]
  },
  {
   "cell_type": "code",
   "execution_count": 6,
   "metadata": {},
   "outputs": [],
   "source": [
    "model.fit(X, y)"
   ]
  },
  {
   "cell_type": "code",
   "execution_count": 7,
   "metadata": {},
   "outputs": [
    {
     "data": {
      "text/plain": [
       "array([0.02198488])"
      ]
     },
     "execution_count": 7,
     "metadata": {},
     "output_type": "execute_result"
    }
   ],
   "source": [
    "model.compute_cost_add_offset(X, y)"
   ]
  },
  {
   "cell_type": "code",
   "execution_count": 8,
   "metadata": {},
   "outputs": [
    {
     "data": {
      "text/plain": [
       "array([[0.34572541],\n",
       "       [0.87075286],\n",
       "       [0.5711716 ],\n",
       "       [0.48165509]])"
      ]
     },
     "execution_count": 8,
     "metadata": {},
     "output_type": "execute_result"
    }
   ],
   "source": [
    "p0 = model.predict(X)\n",
    "p0"
   ]
  },
  {
   "cell_type": "code",
   "execution_count": 9,
   "metadata": {},
   "outputs": [],
   "source": [
    "from sklearn.linear_model import LinearRegression"
   ]
  },
  {
   "cell_type": "code",
   "execution_count": 10,
   "metadata": {},
   "outputs": [
    {
     "data": {
      "text/html": [
       "<style>#sk-container-id-1 {color: black;background-color: white;}#sk-container-id-1 pre{padding: 0;}#sk-container-id-1 div.sk-toggleable {background-color: white;}#sk-container-id-1 label.sk-toggleable__label {cursor: pointer;display: block;width: 100%;margin-bottom: 0;padding: 0.3em;box-sizing: border-box;text-align: center;}#sk-container-id-1 label.sk-toggleable__label-arrow:before {content: \"▸\";float: left;margin-right: 0.25em;color: #696969;}#sk-container-id-1 label.sk-toggleable__label-arrow:hover:before {color: black;}#sk-container-id-1 div.sk-estimator:hover label.sk-toggleable__label-arrow:before {color: black;}#sk-container-id-1 div.sk-toggleable__content {max-height: 0;max-width: 0;overflow: hidden;text-align: left;background-color: #f0f8ff;}#sk-container-id-1 div.sk-toggleable__content pre {margin: 0.2em;color: black;border-radius: 0.25em;background-color: #f0f8ff;}#sk-container-id-1 input.sk-toggleable__control:checked~div.sk-toggleable__content {max-height: 200px;max-width: 100%;overflow: auto;}#sk-container-id-1 input.sk-toggleable__control:checked~label.sk-toggleable__label-arrow:before {content: \"▾\";}#sk-container-id-1 div.sk-estimator input.sk-toggleable__control:checked~label.sk-toggleable__label {background-color: #d4ebff;}#sk-container-id-1 div.sk-label input.sk-toggleable__control:checked~label.sk-toggleable__label {background-color: #d4ebff;}#sk-container-id-1 input.sk-hidden--visually {border: 0;clip: rect(1px 1px 1px 1px);clip: rect(1px, 1px, 1px, 1px);height: 1px;margin: -1px;overflow: hidden;padding: 0;position: absolute;width: 1px;}#sk-container-id-1 div.sk-estimator {font-family: monospace;background-color: #f0f8ff;border: 1px dotted black;border-radius: 0.25em;box-sizing: border-box;margin-bottom: 0.5em;}#sk-container-id-1 div.sk-estimator:hover {background-color: #d4ebff;}#sk-container-id-1 div.sk-parallel-item::after {content: \"\";width: 100%;border-bottom: 1px solid gray;flex-grow: 1;}#sk-container-id-1 div.sk-label:hover label.sk-toggleable__label {background-color: #d4ebff;}#sk-container-id-1 div.sk-serial::before {content: \"\";position: absolute;border-left: 1px solid gray;box-sizing: border-box;top: 0;bottom: 0;left: 50%;z-index: 0;}#sk-container-id-1 div.sk-serial {display: flex;flex-direction: column;align-items: center;background-color: white;padding-right: 0.2em;padding-left: 0.2em;position: relative;}#sk-container-id-1 div.sk-item {position: relative;z-index: 1;}#sk-container-id-1 div.sk-parallel {display: flex;align-items: stretch;justify-content: center;background-color: white;position: relative;}#sk-container-id-1 div.sk-item::before, #sk-container-id-1 div.sk-parallel-item::before {content: \"\";position: absolute;border-left: 1px solid gray;box-sizing: border-box;top: 0;bottom: 0;left: 50%;z-index: -1;}#sk-container-id-1 div.sk-parallel-item {display: flex;flex-direction: column;z-index: 1;position: relative;background-color: white;}#sk-container-id-1 div.sk-parallel-item:first-child::after {align-self: flex-end;width: 50%;}#sk-container-id-1 div.sk-parallel-item:last-child::after {align-self: flex-start;width: 50%;}#sk-container-id-1 div.sk-parallel-item:only-child::after {width: 0;}#sk-container-id-1 div.sk-dashed-wrapped {border: 1px dashed gray;margin: 0 0.4em 0.5em 0.4em;box-sizing: border-box;padding-bottom: 0.4em;background-color: white;}#sk-container-id-1 div.sk-label label {font-family: monospace;font-weight: bold;display: inline-block;line-height: 1.2em;}#sk-container-id-1 div.sk-label-container {text-align: center;}#sk-container-id-1 div.sk-container {/* jupyter's `normalize.less` sets `[hidden] { display: none; }` but bootstrap.min.css set `[hidden] { display: none !important; }` so we also need the `!important` here to be able to override the default hidden behavior on the sphinx rendered scikit-learn.org. See: https://github.com/scikit-learn/scikit-learn/issues/21755 */display: inline-block !important;position: relative;}#sk-container-id-1 div.sk-text-repr-fallback {display: none;}</style><div id=\"sk-container-id-1\" class=\"sk-top-container\"><div class=\"sk-text-repr-fallback\"><pre>LinearRegression()</pre><b>In a Jupyter environment, please rerun this cell to show the HTML representation or trust the notebook. <br />On GitHub, the HTML representation is unable to render, please try loading this page with nbviewer.org.</b></div><div class=\"sk-container\" hidden><div class=\"sk-item\"><div class=\"sk-estimator sk-toggleable\"><input class=\"sk-toggleable__control sk-hidden--visually\" id=\"sk-estimator-id-1\" type=\"checkbox\" checked><label for=\"sk-estimator-id-1\" class=\"sk-toggleable__label sk-toggleable__label-arrow\">LinearRegression</label><div class=\"sk-toggleable__content\"><pre>LinearRegression()</pre></div></div></div></div></div>"
      ],
      "text/plain": [
       "LinearRegression()"
      ]
     },
     "execution_count": 10,
     "metadata": {},
     "output_type": "execute_result"
    }
   ],
   "source": [
    "sklearn_model = LinearRegression()\n",
    "sklearn_model.fit(X,y)"
   ]
  },
  {
   "cell_type": "code",
   "execution_count": 11,
   "metadata": {},
   "outputs": [
    {
     "data": {
      "text/plain": [
       "array([[0.35067277],\n",
       "       [0.87191898],\n",
       "       [0.5628774 ],\n",
       "       [0.48508411]])"
      ]
     },
     "execution_count": 11,
     "metadata": {},
     "output_type": "execute_result"
    }
   ],
   "source": [
    "p1 = sklearn_model.predict(X)\n",
    "p1"
   ]
  },
  {
   "cell_type": "markdown",
   "metadata": {},
   "source": [
    "## how much percent am I off?"
   ]
  },
  {
   "cell_type": "code",
   "execution_count": 12,
   "metadata": {},
   "outputs": [
    {
     "data": {
      "text/plain": [
       "array([[ 0.49473585],\n",
       "       [ 0.11661259],\n",
       "       [-0.82941956],\n",
       "       [ 0.34290178]])"
      ]
     },
     "execution_count": 12,
     "metadata": {},
     "output_type": "execute_result"
    }
   ],
   "source": [
    "(p1 - p0)*100"
   ]
  },
  {
   "cell_type": "code",
   "execution_count": 13,
   "metadata": {},
   "outputs": [
    {
     "ename": "ValueError",
     "evalue": "matmul: Input operand 1 has a mismatch in its core dimension 0, with gufunc signature (n?,k),(k,m?)->(n?,m?) (size 3 is different from 11)",
     "output_type": "error",
     "traceback": [
      "\u001b[1;31m---------------------------------------------------------------------------\u001b[0m",
      "\u001b[1;31mValueError\u001b[0m                                Traceback (most recent call last)",
      "\u001b[1;32mc:\\Git_Repos\\python-linear-regression\\lin-reg.ipynb Cell 16'\u001b[0m in \u001b[0;36m<cell line: 3>\u001b[1;34m()\u001b[0m\n\u001b[0;32m      <a href='vscode-notebook-cell:/c%3A/Git_Repos/python-linear-regression/lin-reg.ipynb#ch0000024?line=8'>9</a>\u001b[0m my_model \u001b[39m=\u001b[39m linear_regression_model()\n\u001b[0;32m     <a href='vscode-notebook-cell:/c%3A/Git_Repos/python-linear-regression/lin-reg.ipynb#ch0000024?line=9'>10</a>\u001b[0m my_model\u001b[39m.\u001b[39mfit(X, y)\n\u001b[1;32m---> <a href='vscode-notebook-cell:/c%3A/Git_Repos/python-linear-regression/lin-reg.ipynb#ch0000024?line=10'>11</a>\u001b[0m p0 \u001b[39m=\u001b[39m model\u001b[39m.\u001b[39;49mpredict(X)\n\u001b[0;32m     <a href='vscode-notebook-cell:/c%3A/Git_Repos/python-linear-regression/lin-reg.ipynb#ch0000024?line=12'>13</a>\u001b[0m sk_model_1 \u001b[39m=\u001b[39m LinearRegression()\n\u001b[0;32m     <a href='vscode-notebook-cell:/c%3A/Git_Repos/python-linear-regression/lin-reg.ipynb#ch0000024?line=13'>14</a>\u001b[0m sk_model_1\u001b[39m.\u001b[39mfit(X,y)\n",
      "\u001b[1;32mc:\\Git_Repos\\python-linear-regression\\lin-reg.ipynb Cell 4'\u001b[0m in \u001b[0;36mlinear_regression_model.predict\u001b[1;34m(self, X)\u001b[0m\n\u001b[0;32m      <a href='vscode-notebook-cell:/c%3A/Git_Repos/python-linear-regression/lin-reg.ipynb#ch0000007?line=6'>7</a>\u001b[0m \u001b[39mdef\u001b[39;00m \u001b[39mpredict\u001b[39m(\u001b[39mself\u001b[39m, X):\n\u001b[0;32m      <a href='vscode-notebook-cell:/c%3A/Git_Repos/python-linear-regression/lin-reg.ipynb#ch0000007?line=7'>8</a>\u001b[0m     X \u001b[39m=\u001b[39m np\u001b[39m.\u001b[39mhstack((np\u001b[39m.\u001b[39mones((\u001b[39mlen\u001b[39m(X),\u001b[39m1\u001b[39m)), X))\n\u001b[1;32m----> <a href='vscode-notebook-cell:/c%3A/Git_Repos/python-linear-regression/lin-reg.ipynb#ch0000007?line=8'>9</a>\u001b[0m     predictions \u001b[39m=\u001b[39m X \u001b[39m@\u001b[39;49m \u001b[39mself\u001b[39;49m\u001b[39m.\u001b[39;49mtheta\n\u001b[0;32m     <a href='vscode-notebook-cell:/c%3A/Git_Repos/python-linear-regression/lin-reg.ipynb#ch0000007?line=9'>10</a>\u001b[0m     \u001b[39mreturn\u001b[39;00m predictions\n",
      "\u001b[1;31mValueError\u001b[0m: matmul: Input operand 1 has a mismatch in its core dimension 0, with gufunc signature (n?,k),(k,m?)->(n?,m?) (size 3 is different from 11)"
     ]
    }
   ],
   "source": [
    "my_diffs = []\n",
    "baselines= []\n",
    "for i in range(10):\n",
    "    n_examples = 100\n",
    "    n_features = 10\n",
    "    X = np.random.rand(n_examples, n_features)\n",
    "    y = np.random.rand(n_examples, 1)\n",
    "    \n",
    "    my_model = linear_regression_model()\n",
    "    my_model.fit(X, y)\n",
    "    p0 = model.predict(X)\n",
    "    \n",
    "    sk_model_1 = LinearRegression()\n",
    "    sk_model_1.fit(X,y)\n",
    "    sk1 = model.predict(X)\n",
    "    \n",
    "    sk_model_2 = LinearRegression()\n",
    "    sk_model_2.fit(X,y)\n",
    "    sk2 = model.predict(X)\n",
    "    \n",
    "    # we pretend that sk_1 is the ground truth and then we see, \n",
    "    # how far my model is of in comparison to the baseline sk_2\n",
    "    \n",
    "    my_diff = np.sqrt(sum((p0 - sk1)**2))\n",
    "    my_diffs.append(my_diff)\n",
    "    baseline = np.sqrt(sum((sk2 - sk1)**2))\n",
    "    baselines.append(baseline)\n",
    "    \n",
    "    \n",
    "    "
   ]
  }
 ],
 "metadata": {
  "kernelspec": {
   "display_name": "Python 3.8.9 ('venv': venv)",
   "language": "python",
   "name": "python3"
  },
  "language_info": {
   "codemirror_mode": {
    "name": "ipython",
    "version": 3
   },
   "file_extension": ".py",
   "mimetype": "text/x-python",
   "name": "python",
   "nbconvert_exporter": "python",
   "pygments_lexer": "ipython3",
   "version": "3.8.9"
  },
  "orig_nbformat": 4,
  "vscode": {
   "interpreter": {
    "hash": "34744bfec394fc994ad7ba35b2f4ca5cbb07cde4cd3e6a694c3f195241e0a969"
   }
  }
 },
 "nbformat": 4,
 "nbformat_minor": 2
}
