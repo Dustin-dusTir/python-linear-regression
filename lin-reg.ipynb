{
 "cells": [
  {
   "cell_type": "markdown",
   "metadata": {},
   "source": [
    "# my own simple linear regression\n",
    "this is my attempt at creating a linear regression model from scratch  \n",
    "The model should have the same user interface as sklearn  \n",
    "model = LinearRegression()  \n",
    "model.fit(X, Y)  \n",
    "\n",
    "The only external Resource for this Implementation is the following Formula for regularized Gradient descent, taken from the Original Machine Learning Course from Andrew NG"
   ]
  },
  {
   "cell_type": "markdown",
   "metadata": {},
   "source": [
    "![formula](./regularized_linear_regression.png)"
   ]
  },
  {
   "cell_type": "markdown",
   "metadata": {},
   "source": [
    "for now, all we need is numpy"
   ]
  },
  {
   "cell_type": "code",
   "execution_count": 1,
   "metadata": {},
   "outputs": [],
   "source": [
    "import numpy as np\n",
    "import matplotlib.pyplot as plt"
   ]
  },
  {
   "cell_type": "code",
   "execution_count": 2,
   "metadata": {},
   "outputs": [],
   "source": [
    "class linear_regression_model():\n",
    "    def __init__(self):\n",
    "        self.theta = None\n",
    "        self.J_histories = []\n",
    "        self.theta = None\n",
    "    \n",
    "    def predict(self, X):\n",
    "        X = np.hstack((np.ones((len(X),1)), X))\n",
    "        predictions = X @ self.theta\n",
    "        return predictions\n",
    "        \n",
    "    def fit(self, X:np.ndarray, y:np.ndarray, alpha = 0.1, num_iters = 100_000, y_lambda = 0):\n",
    "        # add ones as an extra feature (at the beginning) in the input, to use this for the offset term\n",
    "        X = np.hstack((np.ones((len(X),1)), X))\n",
    "        \n",
    "        if self.theta is None:\n",
    "            self.theta = np.random.rand(X.shape[1], 1) # initialize \n",
    "        J_history = self.gradient_descent_regularised(X, y, self.theta, alpha, num_iters, y_lambda)\n",
    "        self.J_histories.append(J_history)\n",
    "    \n",
    "    def compute_cost_add_offset(self, X, y):\n",
    "        # add ones as an extra feature (at the beginning) in the input, to use this for the offset term\n",
    "        X = np.hstack((np.ones((len(X),1)), X))\n",
    "        if self.theta is None:\n",
    "            self.theta = np.random.rand(X.shape[1], 1) # initialize \n",
    "        m = len(y) # number of training examples\n",
    "        J = 1/(2*m) * sum((X @ self.theta - y)**2)\n",
    "        return J\n",
    "        \n",
    "    def compute_cost(self, X, y):\n",
    "        m = len(y) # number of training examples\n",
    "        J = 1/(2*m) * sum((X @ self.theta - y)**2)\n",
    "        return J\n",
    "    \n",
    "    def gradient_descent_regularised(self, X:np.ndarray, y:np.ndarray, theta:np.ndarray, alpha, num_iters, y_lambda):\n",
    "        m = len(y)\n",
    "        J_history = np.empty(num_iters)\n",
    "\n",
    "        for i in range(num_iters):\n",
    "            # % Instructions: Perform a single gradient step on the parameter vector\n",
    "            # %               theta. \n",
    "            theta = self.theta\n",
    "            J = X @ theta - y\n",
    "            # Save the cost J before every iteration    \n",
    "            J_history[i] = ( 1/(2*m) * sum((J)**2) )\n",
    "            \n",
    "            self.theta = theta * ( 1 - alpha*y_lambda/m) - (alpha/m) * np.transpose(np.transpose( J ) @ X)\n",
    "        \n",
    "        return theta, J_history"
   ]
  },
  {
   "cell_type": "markdown",
   "metadata": {},
   "source": [
    "## Try out my model"
   ]
  },
  {
   "cell_type": "code",
   "execution_count": 3,
   "metadata": {},
   "outputs": [],
   "source": [
    "model = linear_regression_model()"
   ]
  },
  {
   "cell_type": "code",
   "execution_count": 4,
   "metadata": {},
   "outputs": [],
   "source": [
    "n_examples = 4\n",
    "n_features = 2\n",
    "X = np.random.rand(n_examples, n_features)\n",
    "y = np.random.rand(n_examples, 1)"
   ]
  },
  {
   "cell_type": "code",
   "execution_count": 5,
   "metadata": {},
   "outputs": [
    {
     "data": {
      "text/plain": [
       "array([0.06889351])"
      ]
     },
     "execution_count": 5,
     "metadata": {},
     "output_type": "execute_result"
    }
   ],
   "source": [
    "model.compute_cost_add_offset(X, y)"
   ]
  },
  {
   "cell_type": "code",
   "execution_count": 6,
   "metadata": {},
   "outputs": [],
   "source": [
    "model.fit(X, y)"
   ]
  },
  {
   "cell_type": "code",
   "execution_count": 8,
   "metadata": {},
   "outputs": [
    {
     "data": {
      "text/plain": [
       "array([0.01075474])"
      ]
     },
     "execution_count": 8,
     "metadata": {},
     "output_type": "execute_result"
    }
   ],
   "source": [
    "model.compute_cost_add_offset(X, y)"
   ]
  },
  {
   "cell_type": "code",
   "execution_count": 9,
   "metadata": {},
   "outputs": [
    {
     "data": {
      "text/plain": [
       "array([[0.26410102],\n",
       "       [0.67226816],\n",
       "       [0.18369382],\n",
       "       [0.36611077]])"
      ]
     },
     "execution_count": 9,
     "metadata": {},
     "output_type": "execute_result"
    }
   ],
   "source": [
    "p0 = model.predict(X)\n",
    "p0"
   ]
  },
  {
   "cell_type": "markdown",
   "metadata": {},
   "source": [
    "# Compare my model to sklearn and statsmodels"
   ]
  },
  {
   "cell_type": "code",
   "execution_count": 10,
   "metadata": {},
   "outputs": [],
   "source": [
    "from sklearn.linear_model import LinearRegression\n",
    "import statsmodels.api as sm"
   ]
  },
  {
   "cell_type": "code",
   "execution_count": 11,
   "metadata": {},
   "outputs": [
    {
     "data": {
      "text/html": [
       "<style>#sk-container-id-1 {color: black;background-color: white;}#sk-container-id-1 pre{padding: 0;}#sk-container-id-1 div.sk-toggleable {background-color: white;}#sk-container-id-1 label.sk-toggleable__label {cursor: pointer;display: block;width: 100%;margin-bottom: 0;padding: 0.3em;box-sizing: border-box;text-align: center;}#sk-container-id-1 label.sk-toggleable__label-arrow:before {content: \"▸\";float: left;margin-right: 0.25em;color: #696969;}#sk-container-id-1 label.sk-toggleable__label-arrow:hover:before {color: black;}#sk-container-id-1 div.sk-estimator:hover label.sk-toggleable__label-arrow:before {color: black;}#sk-container-id-1 div.sk-toggleable__content {max-height: 0;max-width: 0;overflow: hidden;text-align: left;background-color: #f0f8ff;}#sk-container-id-1 div.sk-toggleable__content pre {margin: 0.2em;color: black;border-radius: 0.25em;background-color: #f0f8ff;}#sk-container-id-1 input.sk-toggleable__control:checked~div.sk-toggleable__content {max-height: 200px;max-width: 100%;overflow: auto;}#sk-container-id-1 input.sk-toggleable__control:checked~label.sk-toggleable__label-arrow:before {content: \"▾\";}#sk-container-id-1 div.sk-estimator input.sk-toggleable__control:checked~label.sk-toggleable__label {background-color: #d4ebff;}#sk-container-id-1 div.sk-label input.sk-toggleable__control:checked~label.sk-toggleable__label {background-color: #d4ebff;}#sk-container-id-1 input.sk-hidden--visually {border: 0;clip: rect(1px 1px 1px 1px);clip: rect(1px, 1px, 1px, 1px);height: 1px;margin: -1px;overflow: hidden;padding: 0;position: absolute;width: 1px;}#sk-container-id-1 div.sk-estimator {font-family: monospace;background-color: #f0f8ff;border: 1px dotted black;border-radius: 0.25em;box-sizing: border-box;margin-bottom: 0.5em;}#sk-container-id-1 div.sk-estimator:hover {background-color: #d4ebff;}#sk-container-id-1 div.sk-parallel-item::after {content: \"\";width: 100%;border-bottom: 1px solid gray;flex-grow: 1;}#sk-container-id-1 div.sk-label:hover label.sk-toggleable__label {background-color: #d4ebff;}#sk-container-id-1 div.sk-serial::before {content: \"\";position: absolute;border-left: 1px solid gray;box-sizing: border-box;top: 0;bottom: 0;left: 50%;z-index: 0;}#sk-container-id-1 div.sk-serial {display: flex;flex-direction: column;align-items: center;background-color: white;padding-right: 0.2em;padding-left: 0.2em;position: relative;}#sk-container-id-1 div.sk-item {position: relative;z-index: 1;}#sk-container-id-1 div.sk-parallel {display: flex;align-items: stretch;justify-content: center;background-color: white;position: relative;}#sk-container-id-1 div.sk-item::before, #sk-container-id-1 div.sk-parallel-item::before {content: \"\";position: absolute;border-left: 1px solid gray;box-sizing: border-box;top: 0;bottom: 0;left: 50%;z-index: -1;}#sk-container-id-1 div.sk-parallel-item {display: flex;flex-direction: column;z-index: 1;position: relative;background-color: white;}#sk-container-id-1 div.sk-parallel-item:first-child::after {align-self: flex-end;width: 50%;}#sk-container-id-1 div.sk-parallel-item:last-child::after {align-self: flex-start;width: 50%;}#sk-container-id-1 div.sk-parallel-item:only-child::after {width: 0;}#sk-container-id-1 div.sk-dashed-wrapped {border: 1px dashed gray;margin: 0 0.4em 0.5em 0.4em;box-sizing: border-box;padding-bottom: 0.4em;background-color: white;}#sk-container-id-1 div.sk-label label {font-family: monospace;font-weight: bold;display: inline-block;line-height: 1.2em;}#sk-container-id-1 div.sk-label-container {text-align: center;}#sk-container-id-1 div.sk-container {/* jupyter's `normalize.less` sets `[hidden] { display: none; }` but bootstrap.min.css set `[hidden] { display: none !important; }` so we also need the `!important` here to be able to override the default hidden behavior on the sphinx rendered scikit-learn.org. See: https://github.com/scikit-learn/scikit-learn/issues/21755 */display: inline-block !important;position: relative;}#sk-container-id-1 div.sk-text-repr-fallback {display: none;}</style><div id=\"sk-container-id-1\" class=\"sk-top-container\"><div class=\"sk-text-repr-fallback\"><pre>LinearRegression()</pre><b>In a Jupyter environment, please rerun this cell to show the HTML representation or trust the notebook. <br />On GitHub, the HTML representation is unable to render, please try loading this page with nbviewer.org.</b></div><div class=\"sk-container\" hidden><div class=\"sk-item\"><div class=\"sk-estimator sk-toggleable\"><input class=\"sk-toggleable__control sk-hidden--visually\" id=\"sk-estimator-id-1\" type=\"checkbox\" checked><label for=\"sk-estimator-id-1\" class=\"sk-toggleable__label sk-toggleable__label-arrow\">LinearRegression</label><div class=\"sk-toggleable__content\"><pre>LinearRegression()</pre></div></div></div></div></div>"
      ],
      "text/plain": [
       "LinearRegression()"
      ]
     },
     "execution_count": 11,
     "metadata": {},
     "output_type": "execute_result"
    }
   ],
   "source": [
    "sklearn_model = LinearRegression()\n",
    "sklearn_model.fit(X,y)"
   ]
  },
  {
   "cell_type": "code",
   "execution_count": 12,
   "metadata": {},
   "outputs": [
    {
     "data": {
      "text/plain": [
       "array([[0.26410102],\n",
       "       [0.67226816],\n",
       "       [0.18369382],\n",
       "       [0.36611077]])"
      ]
     },
     "execution_count": 12,
     "metadata": {},
     "output_type": "execute_result"
    }
   ],
   "source": [
    "p1 = sklearn_model.predict(X)\n",
    "p1"
   ]
  },
  {
   "cell_type": "markdown",
   "metadata": {},
   "source": [
    "## how much percent am I off?"
   ]
  },
  {
   "cell_type": "code",
   "execution_count": 13,
   "metadata": {},
   "outputs": [
    {
     "data": {
      "text/plain": [
       "array([[-2.05391260e-13],\n",
       "       [ 2.55351296e-13],\n",
       "       [-1.97064587e-13],\n",
       "       [ 1.11022302e-13]])"
      ]
     },
     "execution_count": 13,
     "metadata": {},
     "output_type": "execute_result"
    }
   ],
   "source": [
    "(p1 - p0)*100"
   ]
  },
  {
   "cell_type": "markdown",
   "metadata": {},
   "source": [
    "## experiment to find out how my algorithm compares to the reference"
   ]
  },
  {
   "cell_type": "code",
   "execution_count": 14,
   "metadata": {},
   "outputs": [
    {
     "data": {
      "text/plain": [
       "array([[3.86422609e-14, 1.23419654e-14],\n",
       "       [1.74749069e-14, 2.17133058e-15],\n",
       "       [3.80556878e-14, 3.02803026e-15],\n",
       "       [3.60846395e-14, 1.37307929e-14],\n",
       "       [2.41661024e-14, 2.57753524e-15],\n",
       "       [4.46444616e-14, 2.91012412e-14],\n",
       "       [2.71076503e-14, 1.28256590e-14],\n",
       "       [6.66431369e-14, 5.62839413e-14],\n",
       "       [3.40812701e-14, 5.00463123e-15],\n",
       "       [2.61537654e-14, 5.22159028e-15]])"
      ]
     },
     "execution_count": 14,
     "metadata": {},
     "output_type": "execute_result"
    }
   ],
   "source": [
    "my_diffs = []\n",
    "sk_diffs= []\n",
    "for i in range(10):\n",
    "    n_examples = 100\n",
    "    n_features = 10\n",
    "    X = np.random.rand(n_examples, n_features)\n",
    "    y = np.random.rand(n_examples, 1)\n",
    "    \n",
    "    # my model\n",
    "    my_model = linear_regression_model()\n",
    "    my_model.fit(X, y)\n",
    "    my_predictions = my_model.predict(X)\n",
    "    \n",
    "    # sklearn\n",
    "    sk_model = LinearRegression()\n",
    "    sk_model.fit(X,y)\n",
    "    sk_predictions = sk_model.predict(X)\n",
    "    \n",
    "    # statsmodels\n",
    "    X1 = sm.add_constant(X)\n",
    "    sm_model = sm.OLS(y, X1).fit()\n",
    "    sm_predictions = np.vstack(sm_model.predict(X1))\n",
    "    \n",
    "    # we pretend that statsmodels is the ground truth and then we see, \n",
    "    # how far my model is of in comparison to the sklearn implementation\n",
    "    \n",
    "    my_diff = np.sqrt(sum((my_predictions - sm_predictions)**2))\n",
    "    my_diffs.append(my_diff)\n",
    "    sk_diff = np.sqrt(sum((sk_predictions - sm_predictions)**2))\n",
    "    sk_diffs.append(sk_diff)\n",
    "    \n",
    "np.hstack([my_diffs, sk_diffs])"
   ]
  },
  {
   "cell_type": "markdown",
   "metadata": {},
   "source": [
    "### interpretation\n",
    "The learning rate and the number of iterations in my algorithm are adjusted, so that the accuracy is similar to the sklearn implementation  \n",
    "my implementation takes significantly longer, because I use the vanilla gradient descent implementation.  \n",
    "And I did not implement any Improvements like a varying learning rate and an automatic detection of \"learning finished\"."
   ]
  },
  {
   "cell_type": "markdown",
   "metadata": {},
   "source": [
    "## investigate the time performance"
   ]
  },
  {
   "cell_type": "code",
   "execution_count": 15,
   "metadata": {},
   "outputs": [],
   "source": [
    "n_examples = 100\n",
    "n_features = 10\n",
    "X = np.random.rand(n_examples, n_features)\n",
    "y = np.random.rand(n_examples, 1)\n",
    "\n",
    "# my model\n",
    "my_model = linear_regression_model()"
   ]
  },
  {
   "cell_type": "markdown",
   "metadata": {},
   "source": [
    "### model learning"
   ]
  },
  {
   "cell_type": "code",
   "execution_count": 16,
   "metadata": {},
   "outputs": [],
   "source": [
    "###########    My Model\n",
    "my_model = linear_regression_model()"
   ]
  },
  {
   "cell_type": "code",
   "execution_count": 17,
   "metadata": {},
   "outputs": [
    {
     "name": "stdout",
     "output_type": "stream",
     "text": [
      "5.75 s ± 95 ms per loop (mean ± std. dev. of 7 runs, 1 loop each)\n"
     ]
    }
   ],
   "source": [
    "%timeit my_model.fit(X, y)"
   ]
  },
  {
   "cell_type": "code",
   "execution_count": 18,
   "metadata": {},
   "outputs": [],
   "source": [
    "###########    Scikit Learn\n",
    "sk_model = LinearRegression()"
   ]
  },
  {
   "cell_type": "code",
   "execution_count": 19,
   "metadata": {},
   "outputs": [
    {
     "name": "stdout",
     "output_type": "stream",
     "text": [
      "560 µs ± 2.23 µs per loop (mean ± std. dev. of 7 runs, 1,000 loops each)\n"
     ]
    }
   ],
   "source": [
    "%timeit sk_model.fit(X,y)"
   ]
  },
  {
   "cell_type": "code",
   "execution_count": 20,
   "metadata": {},
   "outputs": [],
   "source": [
    "# statsmodels\n",
    "X1 = sm.add_constant(X)\n",
    "sm_model = sm.OLS(y, X1).fit()"
   ]
  },
  {
   "cell_type": "code",
   "execution_count": 21,
   "metadata": {},
   "outputs": [
    {
     "name": "stdout",
     "output_type": "stream",
     "text": [
      "250 µs ± 2.56 µs per loop (mean ± std. dev. of 7 runs, 1,000 loops each)\n"
     ]
    }
   ],
   "source": [
    "%timeit sm.OLS(y, X1).fit()"
   ]
  },
  {
   "cell_type": "markdown",
   "metadata": {},
   "source": [
    "### predictions"
   ]
  },
  {
   "cell_type": "code",
   "execution_count": 22,
   "metadata": {},
   "outputs": [
    {
     "name": "stdout",
     "output_type": "stream",
     "text": [
      "9.12 µs ± 598 ns per loop (mean ± std. dev. of 7 runs, 100,000 loops each)\n"
     ]
    }
   ],
   "source": [
    "%timeit my_model.predict(X)"
   ]
  },
  {
   "cell_type": "code",
   "execution_count": 23,
   "metadata": {},
   "outputs": [
    {
     "name": "stdout",
     "output_type": "stream",
     "text": [
      "42.6 µs ± 381 ns per loop (mean ± std. dev. of 7 runs, 10,000 loops each)\n"
     ]
    }
   ],
   "source": [
    "%timeit sk_model.predict(X)"
   ]
  },
  {
   "cell_type": "code",
   "execution_count": 24,
   "metadata": {},
   "outputs": [
    {
     "name": "stdout",
     "output_type": "stream",
     "text": [
      "6.43 µs ± 117 ns per loop (mean ± std. dev. of 7 runs, 100,000 loops each)\n"
     ]
    }
   ],
   "source": [
    "%timeit sm_model.predict(X1)"
   ]
  }
 ],
 "metadata": {
  "kernelspec": {
   "display_name": "Python 3.8.9 ('venv': venv)",
   "language": "python",
   "name": "python3"
  },
  "language_info": {
   "codemirror_mode": {
    "name": "ipython",
    "version": 3
   },
   "file_extension": ".py",
   "mimetype": "text/x-python",
   "name": "python",
   "nbconvert_exporter": "python",
   "pygments_lexer": "ipython3",
   "version": "3.8.9"
  },
  "orig_nbformat": 4,
  "vscode": {
   "interpreter": {
    "hash": "34744bfec394fc994ad7ba35b2f4ca5cbb07cde4cd3e6a694c3f195241e0a969"
   }
  }
 },
 "nbformat": 4,
 "nbformat_minor": 2
}
